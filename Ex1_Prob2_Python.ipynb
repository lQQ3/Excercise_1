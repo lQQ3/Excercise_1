{
 "cells": [
  {
   "cell_type": "code",
   "execution_count": 1,
   "metadata": {},
   "outputs": [],
   "source": [
    "#Import libraries\n",
    "import scipy as sp\n",
    "# Got an error saying: \"module 'scipy' has no attribute 'stats'\". This imports stats implicitly.\n",
    "from scipy import stats  \n",
    "import pandas as pd"
   ]
  },
  {
   "cell_type": "code",
   "execution_count": 2,
   "metadata": {},
   "outputs": [],
   "source": [
    "# Declare constant and give it a value\n",
    "Total_Flips = 10 \n",
    "# Return evenly spaced numbers over a specified interval: (start, stop, increase flip count)\n",
    "Heads = sp.linspace(0, Total_Flips, Total_Flips+1) \n",
    "# Binomial.Probability_Mass_Function (location, number, probability)\n",
    "Probability = sp.stats.binom.pmf(Heads, Total_Flips, 0.5) "
   ]
  },
  {
   "cell_type": "code",
   "execution_count": 3,
   "metadata": {},
   "outputs": [
    {
     "name": "stdout",
     "output_type": "stream",
     "text": [
      "       Probability\n",
      "Heads             \n",
      "0         0.000977\n",
      "1         0.009766\n",
      "2         0.043945\n",
      "3         0.117188\n",
      "4         0.205078\n",
      "5         0.246094\n",
      "6         0.205078\n",
      "7         0.117188\n",
      "8         0.043945\n",
      "9         0.009766\n",
      "10        0.000977\n"
     ]
    }
   ],
   "source": [
    "# df is now a DataFrame object which holds Probability as the contents\n",
    "df = pd.DataFrame(data=Probability, columns=[\"Probability\"])\n",
    "# This titles the column\n",
    "df.index.names = [\"Heads\"]\n",
    "# Show it\n",
    "print(df)"
   ]
  }
 ],
 "metadata": {
  "kernelspec": {
   "display_name": "Python 3",
   "language": "python",
   "name": "python3"
  },
  "language_info": {
   "codemirror_mode": {
    "name": "ipython",
    "version": 3
   },
   "file_extension": ".py",
   "mimetype": "text/x-python",
   "name": "python",
   "nbconvert_exporter": "python",
   "pygments_lexer": "ipython3",
   "version": "3.6.4"
  }
 },
 "nbformat": 4,
 "nbformat_minor": 2
}
