{
 "cells": [
  {
   "cell_type": "code",
   "execution_count": 1,
   "metadata": {},
   "outputs": [],
   "source": [
    "#Import libraries\n",
    "import numpy as np"
   ]
  },
  {
   "cell_type": "code",
   "execution_count": 2,
   "metadata": {},
   "outputs": [
    {
     "name": "stdout",
     "output_type": "stream",
     "text": [
      "0\n",
      "0\n",
      "0\n",
      "Number of tails until a heads was rolled:  3\n"
     ]
    }
   ],
   "source": [
    "# Does a 50/50 coin flip, 0 = Heads, 1 = Tails\n",
    "def coin_flip():\n",
    "    return(np.random.randint(low=0, high=2))\n",
    "\n",
    "tail_count = 0\n",
    "\n",
    "flip = coin_flip()\n",
    "\n",
    "while flip == 0:\n",
    "    print(flip)\n",
    "    tail_count+=1\n",
    "    flip = coin_flip()\n",
    "    \n",
    "print('Number of tails until a heads was rolled: ', tail_count)"
   ]
  }
 ],
 "metadata": {
  "kernelspec": {
   "display_name": "Python 3",
   "language": "python",
   "name": "python3"
  },
  "language_info": {
   "codemirror_mode": {
    "name": "ipython",
    "version": 3
   },
   "file_extension": ".py",
   "mimetype": "text/x-python",
   "name": "python",
   "nbconvert_exporter": "python",
   "pygments_lexer": "ipython3",
   "version": "3.6.4"
  }
 },
 "nbformat": 4,
 "nbformat_minor": 2
}
