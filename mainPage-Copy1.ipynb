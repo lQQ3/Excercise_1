{
 "cells": [
  {
   "cell_type": "code",
   "execution_count": 3,
   "metadata": {
    "collapsed": false
   },
   "outputs": [
    {
     "data": {
      "text/plain": [
       "'\\n__summary__     = \"mainPage.py: This page is the primary control page for users\"\\n\\n__description__ = \"This is to be the primary intermediary handler between the GUI and the database system\"\\n__author__      = [\"Shawn Rice\", \"Timothy Kenno Han\"]\\n__date__        = \"April 14, 2018\"\\n__copyright__   = \"Copyright 2018, Creative Commons pending\" \\n__credits__     = [\"Shawn Rice\", \"Timothy Kenno Han\", \"Dale Frakes\"]\\n__license__     = \"GPL\"\\n__version__     = \"1.0\"\\n__maintainer__  = \"Shawn Rice\"\\n__email__       = \"shaw23@pdx.edu\"\\n__status__      = \"Prototype\"\\n'"
      ]
     },
     "execution_count": 3,
     "metadata": {},
     "output_type": "execute_result"
    }
   ],
   "source": [
    "# !/usr/bin/env python\n",
    "\"\"\"\n",
    "__summary__     = \"mainPage.py: This page is the primary control page for users\"\n",
    "\n",
    "__description__ = \"This is to be the primary intermediary handler between the GUI and the database system\"\n",
    "__author__      = [\"Shawn Rice\", \"Timothy Kenno Han\"]\n",
    "__date__        = \"April 14, 2018\"\n",
    "__copyright__   = \"Copyright 2018, Creative Commons pending\" \n",
    "__credits__     = [\"Shawn Rice\", \"Timothy Kenno Han\", \"Dale Frakes\"]\n",
    "__license__     = \"GPL\"\n",
    "__version__     = \"1.0\"\n",
    "__maintainer__  = \"Shawn Rice\"\n",
    "__email__       = \"shaw23@pdx.edu\"\n",
    "__status__      = \"Prototype\"\n",
    "\"\"\""
   ]
  },
  {
   "cell_type": "code",
   "execution_count": 4,
   "metadata": {
    "collapsed": true
   },
   "outputs": [],
   "source": [
    "#import numpy for formula work later\n",
    "import numpy as np"
   ]
  },
  {
   "cell_type": "markdown",
   "metadata": {},
   "source": [
    "# Main Page"
   ]
  },
  {
   "cell_type": "code",
   "execution_count": 5,
   "metadata": {
    "collapsed": false
   },
   "outputs": [
    {
     "name": "stdout",
     "output_type": "stream",
     "text": [
      "What is your name?\n",
      "s\n",
      "Welcome s\n",
      "Today is 2018-04-15\n",
      "The time is 2018-04-15 04:17:38.721027\n",
      "The unit has booted 2 times\n"
     ]
    }
   ],
   "source": [
    "#check for first visit or factory reset\n",
    "count = 0\n",
    "while count == 0:\n",
    "    print(\"What is your name?\")\n",
    "    username = input()\n",
    "    print(\"Welcome\", username)\n",
    "    count = count + 1\n",
    "\n",
    "count = count + 1\n",
    "import datetime\n",
    "datelist = []\n",
    "today = datetime.date.today()\n",
    "datelist.append(today)\n",
    "print(\"Today is\", datelist[0])\n",
    "timelist = []\n",
    "now = datetime.datetime.now()\n",
    "timelist.append(now)\n",
    "print(\"The time is\", now)\n",
    "print(\"The unit has booted\", count, \"times\")"
   ]
  },
  {
   "cell_type": "markdown",
   "metadata": {},
   "source": [
    "## Listland"
   ]
  },
  {
   "cell_type": "markdown",
   "metadata": {},
   "source": [
    "* Bulleted List Item 1\n",
    "* Bulleted List Item 2\n",
    "    * Bulleted List Item 2a\n",
    "    * Bulleted List Item 2b\n",
    "* Bulleted List Item 3"
   ]
  },
  {
   "cell_type": "markdown",
   "metadata": {},
   "source": [
    "1. Numbered List Item 1\n",
    "2. Numbered List Item 2\n",
    "3. Numbered List Item 3"
   ]
  },
  {
   "cell_type": "markdown",
   "metadata": {},
   "source": [
    "Some**BOLD text**\n"
   ]
  },
  {
   "cell_type": "markdown",
   "metadata": {},
   "source": [
    "Some _italicised text_"
   ]
  },
  {
   "cell_type": "markdown",
   "metadata": {},
   "source": [
    "### An Amortization Formula"
   ]
  },
  {
   "cell_type": "code",
   "execution_count": 6,
   "metadata": {
    "collapsed": false
   },
   "outputs": [
    {
     "name": "stdout",
     "output_type": "stream",
     "text": [
      "What is the amount of the loan? 100000\n",
      "For how many years would you like the terms? 30\n",
      "What is the annual interest rate? 10\n",
      "840\n"
     ]
    }
   ],
   "source": [
    "#get loan amount as a floating point var\n",
    "loan = input(\"What is the amount of the loan? \")\n",
    "loan = float(loan)\n",
    "\n",
    "#get the number of years and turn it into payments\n",
    "numberOfPayments = input(\"For how many years would you like the terms? \")\n",
    "numberOfPayments = int(numberOfPayments)\n",
    "\n",
    "#get the annual interest rate and turn it into a monthly rate, then turn it to a decimal\n",
    "interest = input('What is the annual interest rate? ')\n",
    "interest = float(interest)/100/12\n",
    "\n",
    "#Formula\n",
    "# L = loan, I = interest, N = numberOfPayments, M = monthlyPayments\n",
    "# M = L*(I*(1+I)^N) / ((1 + I )^(N-1))\n",
    "monthlyPayments = loan * (interest * (1 + interest) ** numberOfPayments) / ((1 + interest) ** (numberOfPayments - 1))\n",
    "                                                                            \n",
    "#round monthlyPayments then show it\n",
    "print (round(monthlyPayments))\n",
    "                                                                            "
   ]
  },
  {
   "cell_type": "markdown",
   "metadata": {},
   "source": [
    "### A For Loop"
   ]
  },
  {
   "cell_type": "code",
   "execution_count": 7,
   "metadata": {
    "collapsed": false
   },
   "outputs": [
    {
     "name": "stdout",
     "output_type": "stream",
     "text": [
      "1\n",
      "2\n",
      "3\n",
      "4\n",
      "5\n",
      "6\n",
      "7\n",
      "8\n",
      "9\n",
      "10\n",
      "I have counted to 10\n"
     ]
    }
   ],
   "source": [
    "array=[1,2,3,4,5,6,7,8,9,10]\n",
    "for oneToTen, number in enumerate(array):\n",
    "    print(number)\n",
    "    if (oneToTen+1) % 10 == 0:\n",
    "        print(\"I have counted to 10\")"
   ]
  },
  {
   "cell_type": "markdown",
   "metadata": {},
   "source": [
    "### 2-D Array"
   ]
  },
  {
   "cell_type": "code",
   "execution_count": 8,
   "metadata": {
    "collapsed": false
   },
   "outputs": [
    {
     "name": "stdout",
     "output_type": "stream",
     "text": [
      "[1, 2, 3]\n",
      "[4, 5, 6]\n",
      "[7, 8, 9]\n"
     ]
    }
   ],
   "source": [
    "myArray=[[1,2,3],[4,5,6],[7,8,9]]\n",
    "print(myArray[0])\n",
    "print(myArray[1])\n",
    "print(myArray[2])"
   ]
  },
  {
   "cell_type": "markdown",
   "metadata": {},
   "source": [
    "### If / Then / Else Statement"
   ]
  },
  {
   "cell_type": "code",
   "execution_count": 9,
   "metadata": {
    "collapsed": false
   },
   "outputs": [
    {
     "name": "stdout",
     "output_type": "stream",
     "text": [
      "Pick a number that is greater than 1\n",
      "7\n",
      "Your number was odd\n"
     ]
    }
   ],
   "source": [
    "print(\"Pick a number that is greater than 1\")\n",
    "num = input()\n",
    "num = int(num)\n",
    "a = num % 2\n",
    "if a > 0:\n",
    "    print(\"Your number was odd\")\n",
    "else:\n",
    "    print(\"Your number was even\")"
   ]
  },
  {
   "cell_type": "markdown",
   "metadata": {},
   "source": [
    "### Function"
   ]
  },
  {
   "cell_type": "code",
   "execution_count": 10,
   "metadata": {
    "collapsed": false
   },
   "outputs": [
    {
     "name": "stdout",
     "output_type": "stream",
     "text": [
      "This is the first function call!\n",
      "This is the second function call!\n"
     ]
    }
   ],
   "source": [
    "def printFunction(str):\n",
    "    print(str)\n",
    "    return;\n",
    "\n",
    "printFunction(\"This is the first function call!\")\n",
    "printFunction(\"This is the second function call!\")"
   ]
  },
  {
   "cell_type": "markdown",
   "metadata": {},
   "source": [
    "### 20 sided die random results generator"
   ]
  },
  {
   "cell_type": "code",
   "execution_count": 11,
   "metadata": {
    "collapsed": false
   },
   "outputs": [
    {
     "name": "stdout",
     "output_type": "stream",
     "text": [
      "How many die rolls?16\n",
      "7\n",
      "8\n",
      "16\n",
      "16\n",
      "1\n",
      "9\n",
      "7\n",
      "13\n",
      "7\n",
      "2\n",
      "2\n",
      "15\n",
      "15\n",
      "20\n",
      "8\n",
      "2\n"
     ]
    }
   ],
   "source": [
    "import random\n",
    "rollRange = input(\"How many die rolls?\")\n",
    "rollRange = int(rollRange)\n",
    "for x in range(rollRange):\n",
    "    print(random.randint(1,20))"
   ]
  },
  {
   "cell_type": "markdown",
   "metadata": {},
   "source": [
    "### Plot/Graph Generation"
   ]
  },
  {
   "cell_type": "code",
   "execution_count": 12,
   "metadata": {
    "collapsed": false
   },
   "outputs": [
    {
     "data": {
      "image/png": "[encoded data removed]",
      "text/plain": [
       "<matplotlib.figure.Figure at 0xf3ae3d7438>"
      ]
     },
     "metadata": {},
     "output_type": "display_data"
    }
   ],
   "source": [
    "import matplotlib.pyplot as plt\n",
    "\n",
    "# range of scales between frozen and boiling water\n",
    "F = [32,212]      # Fahreheit\n",
    "C = [0,100]      # Celcius\n",
    "\n",
    "plt.title(\"convert Centigrade to Fahreheit\")\n",
    "plt.ylabel(\"Degrees Centigrade\")\n",
    "plt.xlabel(\"Degrees Fahreheit\")\n",
    "plt.grid(True)\n",
    "\n",
    "#plot them\n",
    "plt.plot(F,C)\n",
    "\n",
    "#show them\n",
    "plt.show()"
   ]
  }
 ],
 "metadata": {
  "kernelspec": {
   "display_name": "Python 3",
   "language": "python",
   "name": "python3"
  },
  "language_info": {
   "codemirror_mode": {
    "name": "ipython",
    "version": 3
   },
   "file_extension": ".py",
   "mimetype": "text/x-python",
   "name": "python",
   "nbconvert_exporter": "python",
   "pygments_lexer": "ipython3",
   "version": "3.6.0"
  }
 },
 "nbformat": 4,
 "nbformat_minor": 2
}
