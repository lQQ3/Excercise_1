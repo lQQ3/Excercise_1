{
 "cells": [
  {
   "cell_type": "code",
   "execution_count": 1,
   "metadata": {},
   "outputs": [],
   "source": [
    "# Shawn Rice\n",
    "# 4/29/18\n",
    "# This will simulate the 'Monte Hall' problem"
   ]
  },
  {
   "cell_type": "code",
   "execution_count": 2,
   "metadata": {},
   "outputs": [],
   "source": [
    "# Import libraries\n",
    "import random"
   ]
  },
  {
   "cell_type": "code",
   "execution_count": 3,
   "metadata": {},
   "outputs": [],
   "source": [
    "# How many times should we play?\n",
    "rounds = 100000\n",
    "# Set stage\n",
    "# Create win\\loss count containers\n",
    "wins = 0\n",
    "losses = 0\n",
    "# Create doors\n",
    "doors = [1, 2, 3]\n",
    "# Randomize winning door\n",
    "n = random.randint(1, 3)\n",
    "winningDoor = n"
   ]
  },
  {
   "cell_type": "code",
   "execution_count": 4,
   "metadata": {},
   "outputs": [],
   "source": [
    "# Let's play\n",
    "# Set number of rounds to run\n",
    "for i in range(rounds):\n",
    "    # Select door as a uniform randomized distribution\n",
    "    d = random.choice(doors)\n",
    "    doorSelected = d\n",
    "    # Compare to winning door\n",
    "    if doorSelected == winningDoor:\n",
    "        # If losing; increase losses count and change selected door\n",
    "        losses = losses+1\n",
    "        d = random.choice(doors)\n",
    "        doorSelected = d\n",
    "    else:\n",
    "        # If winning; increase winning count, end round, and if remaining unplayed rounds then restart\n",
    "        wins = wins+1\n",
    "        n = random.randint(1, 3)\n",
    "        winningDoor = n"
   ]
  },
  {
   "cell_type": "code",
   "execution_count": 5,
   "metadata": {},
   "outputs": [
    {
     "name": "stdout",
     "output_type": "stream",
     "text": [
      "Wins:\n",
      "66819\n",
      "Losses:\n",
      "33181\n",
      "By changing doors every time, you won 66.819 of the time.\n"
     ]
    }
   ],
   "source": [
    "# Output\n",
    "# Display number of wins and losses\n",
    "print(\"Wins:\") \n",
    "print(wins)\n",
    "print(\"Losses:\")\n",
    "print(losses)\n",
    "# Turn Wins and Losses to percentages\n",
    "pcent = (100.0 * wins)/(wins + losses)\n",
    "# Show end percentage of wins by changing\n",
    "print(\"By changing doors every time, you won\", pcent ,\"of the time.\")"
   ]
  }
 ],
 "metadata": {
  "kernelspec": {
   "display_name": "Python 3",
   "language": "python",
   "name": "python3"
  },
  "language_info": {
   "codemirror_mode": {
    "name": "ipython",
    "version": 3
   },
   "file_extension": ".py",
   "mimetype": "text/x-python",
   "name": "python",
   "nbconvert_exporter": "python",
   "pygments_lexer": "ipython3",
   "version": "3.6.4"
  }
 },
 "nbformat": 4,
 "nbformat_minor": 2
}
